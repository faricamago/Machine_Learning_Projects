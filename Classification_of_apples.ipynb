{
 "cells": [
  {
   "cell_type": "code",
   "execution_count": 89,
   "id": "3dcac94f",
   "metadata": {},
   "outputs": [],
   "source": [
    "import numpy as np\n",
    "import pandas as pd\n",
    "from pandas import Series, DataFrame"
   ]
  },
  {
   "cell_type": "markdown",
   "id": "9288b9b4",
   "metadata": {},
   "source": [
    "# Classification of Apples\n",
    "##### The mass,width, height,quality index and the freshness of the apples in a crate are given. the average mass,width,height,quality index are given as 97.5, 8.28,7.1 and  5 respectively. Predict if the apple is fresh or rotten. "
   ]
  },
  {
   "cell_type": "code",
   "execution_count": 90,
   "id": "b9e9e96f",
   "metadata": {},
   "outputs": [],
   "source": [
    "df = DataFrame()\n",
    "\n",
    "df['Mass'] = ['129','50','100','120','70','85','99','67','78','130','131','111']\n",
    "df['width'] = ['8.4','7.7','8.0','6.8','9.9','8.6','7.0','7.8','9.2','8.1','8.9','9.0']\n",
    "df['height'] = ['7.4','6.3','5.0','8.0','7.8','7.0','6.8','6.6','7.2','8.8','7.6','6.7']\n",
    "df['quality index'] = ['2.0','3.0','7.0','1.0','9.0','10.0','2.0','3.0','6.0','4.0','8.0','1.0']\n",
    "df['Fresh_or_Rotten'] = ['F','F','F','R','F','R','R','F','F','R','F','R']"
   ]
  },
  {
   "cell_type": "markdown",
   "id": "1c266be0",
   "metadata": {},
   "source": [
    "# Dividing data"
   ]
  },
  {
   "cell_type": "code",
   "execution_count": 91,
   "id": "beb32c80",
   "metadata": {},
   "outputs": [],
   "source": [
    "dfX = df.drop(columns=['Fresh_or_Rotten'])\n",
    "sy = df.Fresh_or_Rotten\n",
    "from sklearn.model_selection import train_test_split\n",
    "dfX_train, dfX_test,sy_train,sy_test = train_test_split(dfX,sy)"
   ]
  },
  {
   "cell_type": "markdown",
   "id": "8afd829a",
   "metadata": {},
   "source": [
    "# Data preprocessing\n",
    "#### A. with LabelEncoder()"
   ]
  },
  {
   "cell_type": "code",
   "execution_count": 92,
   "id": "b777b08b",
   "metadata": {},
   "outputs": [
    {
     "data": {
      "text/plain": [
       "(2     F\n",
       " 8     F\n",
       " 11    R\n",
       " 7     F\n",
       " 1     F\n",
       " 10    F\n",
       " 0     F\n",
       " 6     R\n",
       " 4     F\n",
       " Name: Fresh_or_Rotten, dtype: object,\n",
       " array([0, 0, 1, 0, 0, 0, 0, 1, 0]))"
      ]
     },
     "execution_count": 92,
     "metadata": {},
     "output_type": "execute_result"
    }
   ],
   "source": [
    "from sklearn import preprocessing\n",
    "le = preprocessing.LabelEncoder()\n",
    "le = le.fit(sy_train)\n",
    "y_train = le.transform(sy_train)\n",
    "sy_train,y_train"
   ]
  },
  {
   "cell_type": "markdown",
   "id": "1de75295",
   "metadata": {},
   "source": [
    "#### A. with MinMaxScaler()"
   ]
  },
  {
   "cell_type": "code",
   "execution_count": 93,
   "id": "d2617c26",
   "metadata": {},
   "outputs": [
    {
     "data": {
      "text/plain": [
       "array([['100', '8.0', '5.0', '7.0'],\n",
       "       ['78', '9.2', '7.2', '6.0'],\n",
       "       ['111', '9.0', '6.7', '1.0'],\n",
       "       ['67', '7.8', '6.6', '3.0'],\n",
       "       ['50', '7.7', '6.3', '3.0'],\n",
       "       ['131', '8.9', '7.6', '8.0'],\n",
       "       ['129', '8.4', '7.4', '2.0'],\n",
       "       ['99', '7.0', '6.8', '2.0'],\n",
       "       ['70', '9.9', '7.8', '9.0']], dtype=object)"
      ]
     },
     "execution_count": 93,
     "metadata": {},
     "output_type": "execute_result"
    }
   ],
   "source": [
    "dfX_train.to_numpy()"
   ]
  },
  {
   "cell_type": "code",
   "execution_count": 94,
   "id": "b9e52a3c",
   "metadata": {},
   "outputs": [
    {
     "data": {
      "text/plain": [
       "array([[0.61728395, 0.34482759, 0.        , 0.75      ],\n",
       "       [0.34567901, 0.75862069, 0.78571429, 0.625     ],\n",
       "       [0.75308642, 0.68965517, 0.60714286, 0.        ],\n",
       "       [0.20987654, 0.27586207, 0.57142857, 0.25      ],\n",
       "       [0.        , 0.24137931, 0.46428571, 0.25      ],\n",
       "       [1.        , 0.65517241, 0.92857143, 0.875     ],\n",
       "       [0.97530864, 0.48275862, 0.85714286, 0.125     ],\n",
       "       [0.60493827, 0.        , 0.64285714, 0.125     ],\n",
       "       [0.24691358, 1.        , 1.        , 1.        ]])"
      ]
     },
     "execution_count": 94,
     "metadata": {},
     "output_type": "execute_result"
    }
   ],
   "source": [
    "n1 = preprocessing.MinMaxScaler()\n",
    "n1 =n1.fit(dfX_train.to_numpy())\n",
    "X_train = n1.transform(dfX_train.to_numpy())\n",
    "X_train"
   ]
  },
  {
   "cell_type": "markdown",
   "id": "30ddf4f2",
   "metadata": {},
   "source": [
    "# Building the machine learning model for classification"
   ]
  },
  {
   "cell_type": "code",
   "execution_count": 95,
   "id": "a9c76c65",
   "metadata": {},
   "outputs": [
    {
     "data": {
      "text/plain": [
       "(9, 4)"
      ]
     },
     "execution_count": 95,
     "metadata": {},
     "output_type": "execute_result"
    }
   ],
   "source": [
    "X_train.shape"
   ]
  },
  {
   "cell_type": "code",
   "execution_count": 96,
   "id": "fca90ba7",
   "metadata": {},
   "outputs": [
    {
     "data": {
      "text/plain": [
       "KNeighborsClassifier(n_neighbors=9)"
      ]
     },
     "execution_count": 96,
     "metadata": {},
     "output_type": "execute_result"
    }
   ],
   "source": [
    "from sklearn.neighbors import KNeighborsClassifier\n",
    "knn = KNeighborsClassifier(n_neighbors = 9)\n",
    "knn = knn.fit(X_train,y_train)\n",
    "knn"
   ]
  },
  {
   "cell_type": "markdown",
   "id": "a8392720",
   "metadata": {},
   "source": [
    "# Evaluation of model using test sets"
   ]
  },
  {
   "cell_type": "markdown",
   "id": "5d8ee8b6",
   "metadata": {},
   "source": [
    "## Preprocessing the datasets of dfX_test and sy_test"
   ]
  },
  {
   "cell_type": "code",
   "execution_count": 97,
   "id": "ea209cc6",
   "metadata": {},
   "outputs": [
    {
     "data": {
      "text/plain": [
       "(3    R\n",
       " 9    R\n",
       " 5    R\n",
       " Name: Fresh_or_Rotten, dtype: object,\n",
       " array([1, 1, 1]))"
      ]
     },
     "execution_count": 97,
     "metadata": {},
     "output_type": "execute_result"
    }
   ],
   "source": [
    "y_test = le.transform(sy_test.to_numpy())\n",
    "sy_test,y_test"
   ]
  },
  {
   "cell_type": "code",
   "execution_count": 98,
   "id": "84357579",
   "metadata": {},
   "outputs": [
    {
     "data": {
      "text/plain": [
       "(  Mass width height quality index\n",
       " 3  120   6.8    8.0           1.0\n",
       " 9  130   8.1    8.8           4.0\n",
       " 5   85   8.6    7.0          10.0,\n",
       " array([[ 0.86419753, -0.06896552,  1.07142857,  0.        ],\n",
       "        [ 0.98765432,  0.37931034,  1.35714286,  0.375     ],\n",
       "        [ 0.43209877,  0.55172414,  0.71428571,  1.125     ]]))"
      ]
     },
     "execution_count": 98,
     "metadata": {},
     "output_type": "execute_result"
    }
   ],
   "source": [
    "X_test = n1.transform(dfX_test.to_numpy())\n",
    "dfX_test,X_test"
   ]
  },
  {
   "cell_type": "markdown",
   "id": "980a196a",
   "metadata": {},
   "source": [
    "## Apply model to predict the class of X_test and compare with y_test"
   ]
  },
  {
   "cell_type": "code",
   "execution_count": 99,
   "id": "dcc7356d",
   "metadata": {},
   "outputs": [
    {
     "data": {
      "text/plain": [
       "array([0, 0, 0])"
      ]
     },
     "execution_count": 99,
     "metadata": {},
     "output_type": "execute_result"
    }
   ],
   "source": [
    "knn.predict(X_test)"
   ]
  },
  {
   "cell_type": "code",
   "execution_count": 100,
   "id": "4cfbc174",
   "metadata": {},
   "outputs": [
    {
     "data": {
      "text/plain": [
       "array([1, 1, 1])"
      ]
     },
     "execution_count": 100,
     "metadata": {},
     "output_type": "execute_result"
    }
   ],
   "source": [
    "y_test"
   ]
  },
  {
   "cell_type": "code",
   "execution_count": 101,
   "id": "2bf0ad6f",
   "metadata": {},
   "outputs": [
    {
     "data": {
      "text/plain": [
       "0.0"
      ]
     },
     "execution_count": 101,
     "metadata": {},
     "output_type": "execute_result"
    }
   ],
   "source": [
    "knn.score(X_test,y_test)"
   ]
  },
  {
   "cell_type": "code",
   "execution_count": 102,
   "id": "5b49adeb",
   "metadata": {},
   "outputs": [
    {
     "data": {
      "text/plain": [
       "0.7777777777777778"
      ]
     },
     "execution_count": 102,
     "metadata": {},
     "output_type": "execute_result"
    }
   ],
   "source": [
    "knn.score(X_train,y_train)"
   ]
  },
  {
   "cell_type": "markdown",
   "id": "a68d59f9",
   "metadata": {},
   "source": [
    "# Application of the model for the prediction (classification of new example)"
   ]
  },
  {
   "cell_type": "code",
   "execution_count": 103,
   "id": "1e1c39c4",
   "metadata": {},
   "outputs": [
    {
     "data": {
      "text/plain": [
       "array([[0.58641975, 0.44137931, 0.75      , 0.5       ]])"
      ]
     },
     "execution_count": 103,
     "metadata": {},
     "output_type": "execute_result"
    }
   ],
   "source": [
    "new_example_rawdata  = np.array([[97.5,8.28,7.1,5]])\n",
    "X_new = n1.transform(new_example_rawdata)\n",
    "X_new"
   ]
  },
  {
   "cell_type": "code",
   "execution_count": 104,
   "id": "934c47ce",
   "metadata": {},
   "outputs": [
    {
     "data": {
      "text/plain": [
       "array([0])"
      ]
     },
     "execution_count": 104,
     "metadata": {},
     "output_type": "execute_result"
    }
   ],
   "source": [
    "knn.predict(X_new)"
   ]
  },
  {
   "cell_type": "code",
   "execution_count": 105,
   "id": "1fdcf9fc",
   "metadata": {},
   "outputs": [
    {
     "data": {
      "text/plain": [
       "array(['F'], dtype=object)"
      ]
     },
     "execution_count": 105,
     "metadata": {},
     "output_type": "execute_result"
    }
   ],
   "source": [
    "le.inverse_transform(knn.predict(X_new))"
   ]
  },
  {
   "cell_type": "markdown",
   "id": "6229286e",
   "metadata": {},
   "source": [
    "#### Number of instances: 12\n",
    "#### Number of attributes: 4\n",
    "#### list of attributes: Mass, width, height,quality index\n",
    "#### list of classes: F,R\n",
    "#### Creator: Farica Mago"
   ]
  }
 ],
 "metadata": {
  "kernelspec": {
   "display_name": "Python 3",
   "language": "python",
   "name": "python3"
  },
  "language_info": {
   "codemirror_mode": {
    "name": "ipython",
    "version": 3
   },
   "file_extension": ".py",
   "mimetype": "text/x-python",
   "name": "python",
   "nbconvert_exporter": "python",
   "pygments_lexer": "ipython3",
   "version": "3.8.8"
  }
 },
 "nbformat": 4,
 "nbformat_minor": 5
}
